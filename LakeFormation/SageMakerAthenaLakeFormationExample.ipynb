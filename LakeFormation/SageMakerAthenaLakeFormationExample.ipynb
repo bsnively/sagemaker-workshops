{
 "cells": [
  {
   "cell_type": "markdown",
   "metadata": {},
   "source": [
    "\n",
    "## Quick Demo using LakeFormation without direct access\n",
    "Below is a quick diagram showing the architecture:\n",
    "\n",
    "<img src=\"images/AthenaArchitecture.png\"/>\n"
   ]
  },
  {
   "cell_type": "code",
   "execution_count": 26,
   "metadata": {},
   "outputs": [
    {
     "name": "stdout",
     "output_type": "stream",
     "text": [
      "Table location for flight_delays_csv s3://snively-datalake-us-west-2/flights\n"
     ]
    }
   ],
   "source": [
    "import boto3\n",
    "\n",
    "database_name = 'sagemaker_demo'\n",
    "table_name = 'flight_delays_csv'\n",
    "\n",
    "glue_client = boto3.client('glue')\n",
    "\n",
    "\n",
    "response = glue_client.get_table(\n",
    "    DatabaseName=database_name,\n",
    "    Name=table_name\n",
    ")\n",
    "print('Table location for', table_name, response['Table']['StorageDescriptor']['Location'])"
   ]
  },
  {
   "cell_type": "markdown",
   "metadata": {},
   "source": [
    "## We currently have ls permissions but not get permissions directly\n",
    "\n",
    "We expect to see the file listed, but not be able to read it."
   ]
  },
  {
   "cell_type": "code",
   "execution_count": 28,
   "metadata": {},
   "outputs": [
    {
     "name": "stdout",
     "output_type": "stream",
     "text": [
      "2019-10-28 01:35:46          0 \n",
      "2019-10-28 01:36:16  392680672 2016-cleaned.csv\n",
      "fatal error: An error occurred (403) when calling the HeadObject operation: Forbidden\n"
     ]
    }
   ],
   "source": [
    "!aws s3 ls {response['Table']['StorageDescriptor']['Location']}/\n",
    "!aws s3 cp {response['Table']['StorageDescriptor']['Location']}/2016-cleaned.csv ."
   ]
  },
  {
   "cell_type": "markdown",
   "metadata": {},
   "source": [
    "## let's try to read it anyways"
   ]
  },
  {
   "cell_type": "code",
   "execution_count": 30,
   "metadata": {},
   "outputs": [
    {
     "name": "stdout",
     "output_type": "stream",
     "text": [
      "We expect this to fail...\n",
      "didn't read anything\n"
     ]
    }
   ],
   "source": [
    "import boto3\n",
    "import pandas as pd\n",
    "data = \"didn't read anything\"\n",
    "try:\n",
    "    data = pd.read_csv('s3://snively-datalake-us-west-2/flights/2016-cleaned.csv')\n",
    "except:\n",
    "    print('We expect this to fail...')\n",
    "\n",
    "print(data)"
   ]
  },
  {
   "cell_type": "code",
   "execution_count": null,
   "metadata": {},
   "outputs": [],
   "source": [
    "print('installing the PyAthena Drivers to perform SQL queries natively')\n",
    "print('alternatives include using the boto3 libraries or other Athena Data APIs')\n",
    "!pip install --upgrade pip > /dev/null\n",
    "!pip install PyAthena > /dev/null"
   ]
  },
  {
   "cell_type": "code",
   "execution_count": 2,
   "metadata": {},
   "outputs": [
    {
     "name": "stdout",
     "output_type": "stream",
     "text": [
      "using the athena data bucket: sagemaker-us-west-2-783526147575\n",
      "running in region:  us-west-2\n"
     ]
    }
   ],
   "source": [
    "import sagemaker\n",
    "sagemaker_session = sagemaker.Session()\n",
    "athena_data_bucket = sagemaker_session.default_bucket()\n",
    "print('using the athena data bucket:', athena_data_bucket)\n",
    "print('running in region: ', sagemaker_session.boto_region_name)"
   ]
  },
  {
   "cell_type": "code",
   "execution_count": 3,
   "metadata": {},
   "outputs": [],
   "source": [
    "from pyathena import connect\n",
    "import pandas as pd\n",
    "\n",
    "sagemaker_session = sagemaker.Session()\n",
    "\n",
    "conn = connect(s3_staging_dir=\"s3://\" + athena_data_bucket,\n",
    "               region_name=sagemaker_session.boto_region_name)"
   ]
  },
  {
   "cell_type": "code",
   "execution_count": 10,
   "metadata": {},
   "outputs": [
    {
     "data": {
      "text/html": [
       "<div>\n",
       "<style scoped>\n",
       "    .dataframe tbody tr th:only-of-type {\n",
       "        vertical-align: middle;\n",
       "    }\n",
       "\n",
       "    .dataframe tbody tr th {\n",
       "        vertical-align: top;\n",
       "    }\n",
       "\n",
       "    .dataframe thead th {\n",
       "        text-align: right;\n",
       "    }\n",
       "</style>\n",
       "<table border=\"1\" class=\"dataframe\">\n",
       "  <thead>\n",
       "    <tr style=\"text-align: right;\">\n",
       "      <th></th>\n",
       "      <th>yr</th>\n",
       "      <th>quarter</th>\n",
       "      <th>month</th>\n",
       "      <th>dayofmonth</th>\n",
       "      <th>dayofweek</th>\n",
       "      <th>flightdate</th>\n",
       "      <th>carrier</th>\n",
       "      <th>tailnum</th>\n",
       "      <th>flightnum</th>\n",
       "      <th>originairportid</th>\n",
       "      <th>...</th>\n",
       "      <th>div4wheelsoff</th>\n",
       "      <th>div4tailnum</th>\n",
       "      <th>div5airport</th>\n",
       "      <th>div5airportid</th>\n",
       "      <th>div5airportseqid</th>\n",
       "      <th>div5wheelson</th>\n",
       "      <th>div5totalgtime</th>\n",
       "      <th>div5longestgtime</th>\n",
       "      <th>div5wheelsoff</th>\n",
       "      <th>div5tailnum</th>\n",
       "    </tr>\n",
       "  </thead>\n",
       "  <tbody>\n",
       "    <tr>\n",
       "      <th>0</th>\n",
       "      <td>2016</td>\n",
       "      <td>1</td>\n",
       "      <td>1</td>\n",
       "      <td>21</td>\n",
       "      <td>4</td>\n",
       "      <td>2016-01-21</td>\n",
       "      <td>\"WN\"</td>\n",
       "      <td>\"N432WN\"</td>\n",
       "      <td>\"163\"</td>\n",
       "      <td>15376</td>\n",
       "      <td>...</td>\n",
       "      <td>\"\"</td>\n",
       "      <td>\"\"</td>\n",
       "      <td>\"\"</td>\n",
       "      <td>None</td>\n",
       "      <td>None</td>\n",
       "      <td>\"\"</td>\n",
       "      <td>None</td>\n",
       "      <td>None</td>\n",
       "      <td>\"\"</td>\n",
       "      <td>\"\"</td>\n",
       "    </tr>\n",
       "    <tr>\n",
       "      <th>1</th>\n",
       "      <td>2016</td>\n",
       "      <td>1</td>\n",
       "      <td>1</td>\n",
       "      <td>21</td>\n",
       "      <td>4</td>\n",
       "      <td>2016-01-21</td>\n",
       "      <td>\"WN\"</td>\n",
       "      <td>\"N602SW\"</td>\n",
       "      <td>\"1094\"</td>\n",
       "      <td>15376</td>\n",
       "      <td>...</td>\n",
       "      <td>\"\"</td>\n",
       "      <td>\"\"</td>\n",
       "      <td>\"\"</td>\n",
       "      <td>None</td>\n",
       "      <td>None</td>\n",
       "      <td>\"\"</td>\n",
       "      <td>None</td>\n",
       "      <td>None</td>\n",
       "      <td>\"\"</td>\n",
       "      <td>\"\"</td>\n",
       "    </tr>\n",
       "    <tr>\n",
       "      <th>2</th>\n",
       "      <td>2016</td>\n",
       "      <td>1</td>\n",
       "      <td>1</td>\n",
       "      <td>21</td>\n",
       "      <td>4</td>\n",
       "      <td>2016-01-21</td>\n",
       "      <td>\"WN\"</td>\n",
       "      <td>\"N707SA\"</td>\n",
       "      <td>\"1334\"</td>\n",
       "      <td>15376</td>\n",
       "      <td>...</td>\n",
       "      <td>\"\"</td>\n",
       "      <td>\"\"</td>\n",
       "      <td>\"\"</td>\n",
       "      <td>None</td>\n",
       "      <td>None</td>\n",
       "      <td>\"\"</td>\n",
       "      <td>None</td>\n",
       "      <td>None</td>\n",
       "      <td>\"\"</td>\n",
       "      <td>\"\"</td>\n",
       "    </tr>\n",
       "    <tr>\n",
       "      <th>3</th>\n",
       "      <td>2016</td>\n",
       "      <td>1</td>\n",
       "      <td>1</td>\n",
       "      <td>21</td>\n",
       "      <td>4</td>\n",
       "      <td>2016-01-21</td>\n",
       "      <td>\"WN\"</td>\n",
       "      <td>\"N704SW\"</td>\n",
       "      <td>\"2225\"</td>\n",
       "      <td>15376</td>\n",
       "      <td>...</td>\n",
       "      <td>\"\"</td>\n",
       "      <td>\"\"</td>\n",
       "      <td>\"\"</td>\n",
       "      <td>None</td>\n",
       "      <td>None</td>\n",
       "      <td>\"\"</td>\n",
       "      <td>None</td>\n",
       "      <td>None</td>\n",
       "      <td>\"\"</td>\n",
       "      <td>\"\"</td>\n",
       "    </tr>\n",
       "    <tr>\n",
       "      <th>4</th>\n",
       "      <td>2016</td>\n",
       "      <td>1</td>\n",
       "      <td>1</td>\n",
       "      <td>21</td>\n",
       "      <td>4</td>\n",
       "      <td>2016-01-21</td>\n",
       "      <td>\"WN\"</td>\n",
       "      <td>\"N768SW\"</td>\n",
       "      <td>\"276\"</td>\n",
       "      <td>15376</td>\n",
       "      <td>...</td>\n",
       "      <td>\"\"</td>\n",
       "      <td>\"\"</td>\n",
       "      <td>\"\"</td>\n",
       "      <td>None</td>\n",
       "      <td>None</td>\n",
       "      <td>\"\"</td>\n",
       "      <td>None</td>\n",
       "      <td>None</td>\n",
       "      <td>\"\"</td>\n",
       "      <td>\"\"</td>\n",
       "    </tr>\n",
       "  </tbody>\n",
       "</table>\n",
       "<p>5 rows × 107 columns</p>\n",
       "</div>"
      ],
      "text/plain": [
       "     yr  quarter  month  dayofmonth  dayofweek  flightdate carrier   tailnum  \\\n",
       "0  2016        1      1          21          4  2016-01-21    \"WN\"  \"N432WN\"   \n",
       "1  2016        1      1          21          4  2016-01-21    \"WN\"  \"N602SW\"   \n",
       "2  2016        1      1          21          4  2016-01-21    \"WN\"  \"N707SA\"   \n",
       "3  2016        1      1          21          4  2016-01-21    \"WN\"  \"N704SW\"   \n",
       "4  2016        1      1          21          4  2016-01-21    \"WN\"  \"N768SW\"   \n",
       "\n",
       "  flightnum  originairportid  ...  div4wheelsoff  div4tailnum div5airport  \\\n",
       "0     \"163\"            15376  ...             \"\"           \"\"          \"\"   \n",
       "1    \"1094\"            15376  ...             \"\"           \"\"          \"\"   \n",
       "2    \"1334\"            15376  ...             \"\"           \"\"          \"\"   \n",
       "3    \"2225\"            15376  ...             \"\"           \"\"          \"\"   \n",
       "4     \"276\"            15376  ...             \"\"           \"\"          \"\"   \n",
       "\n",
       "  div5airportid div5airportseqid div5wheelson div5totalgtime  \\\n",
       "0          None             None           \"\"           None   \n",
       "1          None             None           \"\"           None   \n",
       "2          None             None           \"\"           None   \n",
       "3          None             None           \"\"           None   \n",
       "4          None             None           \"\"           None   \n",
       "\n",
       "   div5longestgtime  div5wheelsoff  div5tailnum  \n",
       "0              None             \"\"           \"\"  \n",
       "1              None             \"\"           \"\"  \n",
       "2              None             \"\"           \"\"  \n",
       "3              None             \"\"           \"\"  \n",
       "4              None             \"\"           \"\"  \n",
       "\n",
       "[5 rows x 107 columns]"
      ]
     },
     "execution_count": 10,
     "metadata": {},
     "output_type": "execute_result"
    }
   ],
   "source": [
    "df = pd.read_sql(\"SELECT * FROM sagemaker_demo.flight_delays_csv limit 5\", conn)\n",
    "df"
   ]
  }
 ],
 "metadata": {
  "kernelspec": {
   "display_name": "conda_python3",
   "language": "python",
   "name": "conda_python3"
  },
  "language_info": {
   "codemirror_mode": {
    "name": "ipython",
    "version": 3
   },
   "file_extension": ".py",
   "mimetype": "text/x-python",
   "name": "python",
   "nbconvert_exporter": "python",
   "pygments_lexer": "ipython3",
   "version": "3.6.5"
  }
 },
 "nbformat": 4,
 "nbformat_minor": 2
}

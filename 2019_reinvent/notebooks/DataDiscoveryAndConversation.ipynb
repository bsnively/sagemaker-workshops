{
 "cells": [
  {
   "cell_type": "markdown",
   "metadata": {},
   "source": [
    "# Data Discover and Transformation\n",
    "in this section of the lab, we'll use Glue to discover new transprotation data"
   ]
  },
  {
   "cell_type": "markdown",
   "metadata": {},
   "source": [
    "### ASSUMPTION:\n",
    "1. GlueRole is created in cloudformation\n",
    "1. Notebook role has access to perform glue and athena query functions (in addition to the otherones)\n",
    "1. Run all 3 ETLs at the same time with Standard and 5 workers.\n",
    "\n"
   ]
  },
  {
   "cell_type": "markdown",
   "metadata": {},
   "source": [
    "A table in the AWS Glue Data Catalog is the metadata definition that represents the data in a data store. You create tables when you run a crawler, or you can create a table manually in the AWS Glue console. The Tables list in the AWS Glue console displays values of your table's metadata. You use table definitions to specify sources and targets when you create ETL (extract, transform, and load) jobs. "
   ]
  },
  {
   "cell_type": "code",
   "execution_count": null,
   "metadata": {},
   "outputs": [],
   "source": [
    "import boto3\n",
    "\n",
    "database_name = '2019reinventWorkshop'\n",
    "\n",
    "## lets first create a namespace for the tables:\n",
    "glue_client = boto3.client('glue')\n",
    "create_database_resp = glue_client.create_database(\n",
    "    DatabaseInput={\n",
    "        'Name': database_name,\n",
    "        'Description': 'This database will contain the tables discovered through both crawling and the ETL processes'\n",
    "    }\n",
    ")"
   ]
  },
  {
   "cell_type": "markdown",
   "metadata": {},
   "source": [
    "This will create a new database, or namespace, that can hold the collection of tables\n",
    "<img src=\"images/createdatabaseresponse.png\">"
   ]
  },
  {
   "cell_type": "markdown",
   "metadata": {},
   "source": [
    "You can use a crawler to populate the AWS Glue Data Catalog with tables. This is the primary method used by most AWS Glue users. A crawler can crawl multiple data stores in a single run. Upon completion, the crawler creates or updates one or more tables in your Data Catalog. Extract, transform, and load (ETL) jobs that you define in AWS Glue use these Data Catalog tables as sources and targets. The ETL job reads from and writes to the data stores that are specified in the source and target Data Catalog tables. "
   ]
  },
  {
   "cell_type": "code",
   "execution_count": null,
   "metadata": {},
   "outputs": [],
   "source": [
    "crawler_name = '2019reinventworkshopcrawler'\n",
    "create_crawler_resp = glue_client.create_crawler(\n",
    "    Name=crawler_name,\n",
    "    Role='GlueRole',\n",
    "    DatabaseName=database_name,\n",
    "    Description='Crawler to discover the base tables for the workshop',\n",
    "    Targets={\n",
    "        'S3Targets': [\n",
    "            {\n",
    "                'Path': 's3://serverless-analytics/reinvent-2019/',\n",
    "            },\n",
    "        ]\n",
    "    }\n",
    ")\n",
    "response = glue_client.start_crawler(\n",
    "    Name=crawler_name\n",
    ")"
   ]
  },
  {
   "cell_type": "markdown",
   "metadata": {},
   "source": [
    "After starting the crawler, you can go to the glue console if you'd like to see it running.\n",
    "\n",
    "https://console.aws.amazon.com/glue/home?region=us-east-1#catalog:tab=crawlers\n",
    "<img src='images/startcrawlerui.png'/>\n",
    "\n",
    "After it finishes crawling, you can see the datasets (represeted as \"tables\") it automatically discovered.\n",
    "<img src='images/crawler_discovered.png'/>"
   ]
  },
  {
   "cell_type": "markdown",
   "metadata": {},
   "source": [
    "## Quering the data\n",
    "\n",
    "We'll use Athena to query the data.  Athena allows us to perform SQL queries against datasets on S3, without having to transform them, load them into a traditional sql datastore, and allows rapid ad-hoc investigation.  \n",
    "\n",
    "Later we'll use Spark to do ETL and feature engineering."
   ]
  },
  {
   "cell_type": "code",
   "execution_count": 12,
   "metadata": {},
   "outputs": [
    {
     "name": "stdout",
     "output_type": "stream",
     "text": [
      "installing the PyAthena Drivers to perform SQL queries natively\n",
      "alternatives include using the boto3 libraries or other Athena Data APIs\n",
      "\u001b[33mYou are using pip version 10.0.1, however version 19.2.3 is available.\n",
      "You should consider upgrading via the 'pip install --upgrade pip' command.\u001b[0m\n"
     ]
    }
   ],
   "source": [
    "print('installing the PyAthena Drivers to perform SQL queries natively')\n",
    "print('alternatives include using the boto3 libraries or other Athena Data APIs')\n",
    "!pip install PyAthena > /dev/null"
   ]
  },
  {
   "cell_type": "markdown",
   "metadata": {},
   "source": [
    "Athena uses S3 to store results to allow different types of clients to read it and so you can go back and see the results of previous queries.  We can set that up next:"
   ]
  },
  {
   "cell_type": "code",
   "execution_count": 13,
   "metadata": {},
   "outputs": [
    {
     "name": "stdout",
     "output_type": "stream",
     "text": [
      "using the athena data bucket: sagemaker-us-east-1-783526147575\n",
      "running in region:  us-east-1\n"
     ]
    }
   ],
   "source": [
    "import sagemaker\n",
    "sagemaker_session = sagemaker.Session()\n",
    "athena_data_bucket = sagemaker_session.default_bucket()\n",
    "print('using the athena data bucket:', athena_data_bucket)\n",
    "print('running in region: ', sagemaker_session.boto_region_name)"
   ]
  },
  {
   "cell_type": "markdown",
   "metadata": {},
   "source": [
    "Next we'll create an Athena connection we can use, much like a standard JDBC/ODBC connection"
   ]
  },
  {
   "cell_type": "code",
   "execution_count": 14,
   "metadata": {},
   "outputs": [],
   "source": [
    "from pyathena import connect\n",
    "import pandas as pd\n",
    "\n",
    "sagemaker_session = sagemaker.Session()\n",
    "\n",
    "conn = connect(s3_staging_dir=\"s3://\" + athena_data_bucket,\n",
    "               region_name=sagemaker_session.boto_region_name)"
   ]
  },
  {
   "cell_type": "code",
   "execution_count": 28,
   "metadata": {},
   "outputs": [
    {
     "name": "stdout",
     "output_type": "stream",
     "text": [
      "     type  ride_count\n",
      "0     fhv    31956302\n",
      "1  yellow    44459136\n",
      "2   green     3298036\n"
     ]
    },
    {
     "data": {
      "text/plain": [
       "<matplotlib.axes._subplots.AxesSubplot at 0x7f8df56cd320>"
      ]
     },
     "execution_count": 28,
     "metadata": {},
     "output_type": "execute_result"
    },
    {
     "data": {
      "image/png": "[encoded data removed]",
      "text/plain": [
       "<Figure size 432x288 with 1 Axes>"
      ]
     },
     "metadata": {},
     "output_type": "display_data"
    }
   ],
   "source": [
    "df = pd.read_sql('SELECT \\'yellow\\' type, count(*) ride_count FROM \"' + database_name + '\".\"yellow\" ' + \n",
    "                 'UNION ALL SELECT \\'green\\' type, count(*) ride_count FROM \"' + database_name + '\".\"green\"' +\n",
    "                 'UNION ALL SELECT \\'fhv\\' type, count(*) ride_count FROM \"' + database_name + '\".\"fhv\"', conn)\n",
    "print(df)\n",
    "df.plot.bar(x='type', y='ride_count')"
   ]
  },
  {
   "cell_type": "markdown",
   "metadata": {},
   "source": [
    "## TODO -- ADD DESCRIBE SCHEMA CALLS"
   ]
  },
  {
   "cell_type": "code",
   "execution_count": 36,
   "metadata": {},
   "outputs": [
    {
     "name": "stdout",
     "output_type": "stream",
     "text": [
      "response from starting green\n",
      "{'JobRunId': 'jr_785f46ebd01d0b84d73c22b0f577b9e6e161d000f7fc5e453c7dce6324f5dec7', 'ResponseMetadata': {'RequestId': 'f3f5e032-e7d8-11e9-b6af-7326753c5471', 'HTTPStatusCode': 200, 'HTTPHeaders': {'date': 'Sun, 06 Oct 2019 01:31:00 GMT', 'content-type': 'application/x-amz-json-1.1', 'content-length': '82', 'connection': 'keep-alive', 'x-amzn-requestid': 'f3f5e032-e7d8-11e9-b6af-7326753c5471'}, 'RetryAttempts': 0}}\n",
      "response from starting yellow\n",
      "{'JobRunId': 'jr_1575e46c9953c2399b6522b3933f5a7d5ab44c69f341fb8bb747e5f583bea45c', 'ResponseMetadata': {'RequestId': 'f408f346-e7d8-11e9-98c0-71f52ee8a0c1', 'HTTPStatusCode': 200, 'HTTPHeaders': {'date': 'Sun, 06 Oct 2019 01:31:00 GMT', 'content-type': 'application/x-amz-json-1.1', 'content-length': '82', 'connection': 'keep-alive', 'x-amzn-requestid': 'f408f346-e7d8-11e9-98c0-71f52ee8a0c1'}, 'RetryAttempts': 0}}\n",
      "response from starting fhv\n",
      "{'JobRunId': 'jr_2b88f3f5e4d9c294446c30a2cea526a85f8031bd877c98db6a594229f42cb413', 'ResponseMetadata': {'RequestId': 'f41e76f6-e7d8-11e9-95c5-6540e19a7c30', 'HTTPStatusCode': 200, 'HTTPHeaders': {'date': 'Sun, 06 Oct 2019 01:31:00 GMT', 'content-type': 'application/x-amz-json-1.1', 'content-length': '82', 'connection': 'keep-alive', 'x-amzn-requestid': 'f41e76f6-e7d8-11e9-95c5-6540e19a7c30'}, 'RetryAttempts': 0}}\n"
     ]
    }
   ],
   "source": [
    "green_etl = '2019reinvent_green'\n",
    "yellow_etl = '2019reinvent_yellow'\n",
    "fhv_etl = '2019reinvent_fhv'\n",
    "\n",
    "response = glue_client.start_job_run(\n",
    "    JobName=green_etl,\n",
    "    WorkerType='Standard', # other options include: 'G.1X'|'G.2X',\n",
    "    NumberOfWorkers=5\n",
    ")\n",
    "print('response from starting green')\n",
    "print(response)\n",
    "\n",
    "response = glue_client.start_job_run(\n",
    "    JobName=yellow_etl,\n",
    "    WorkerType='Standard', # other options include: 'G.1X'|'G.2X',\n",
    "    NumberOfWorkers=5\n",
    ")\n",
    "print('response from starting yellow')\n",
    "print(response)\n",
    "\n",
    "response = glue_client.start_job_run(\n",
    "    JobName=fhv_etl,\n",
    "    WorkerType='Standard', # other options include: 'G.1X'|'G.2X',\n",
    "    NumberOfWorkers=5\n",
    ")\n",
    "print('response from starting fhv')\n",
    "print(response)\n"
   ]
  },
  {
   "cell_type": "markdown",
   "metadata": {},
   "source": [
    "after kicking it off, you can see it running in the console too:\n",
    "<img src=\"images/ETLStart.png\"/>"
   ]
  },
  {
   "cell_type": "markdown",
   "metadata": {},
   "source": [
    "## TODO: add logic to wait until the 3 jobs finish programmatically..."
   ]
  },
  {
   "cell_type": "markdown",
   "metadata": {},
   "source": [
    "Now let's look at the total counts for the aggregated information"
   ]
  },
  {
   "cell_type": "code",
   "execution_count": 40,
   "metadata": {},
   "outputs": [
    {
     "name": "stdout",
     "output_type": "stream",
     "text": [
      "     type  ride_count\n",
      "0   green     3298036\n",
      "1     fhv    31956302\n",
      "2  yellow    44459136\n"
     ]
    },
    {
     "data": {
      "text/plain": [
       "<matplotlib.axes._subplots.AxesSubplot at 0x7f8df5522e80>"
      ]
     },
     "execution_count": 40,
     "metadata": {},
     "output_type": "execute_result"
    },
    {
     "data": {
      "image/png": "[encoded data removed]",
      "text/plain": [
       "<Figure size 432x288 with 1 Axes>"
      ]
     },
     "metadata": {},
     "output_type": "display_data"
    }
   ],
   "source": [
    "normalized_df = pd.read_sql('SELECT type, count(*) ride_count FROM \"reinvent19\".\"canonical\" group by type', conn)\n",
    "print(normalized_df)\n",
    "normalized_df.plot.bar(x='type', y='ride_count')\n",
    "#\n",
    "#     type  ride_count\n",
    "#0     fhv    31956302\n",
    "#1  yellow    44459136\n",
    "#2   green     3298036\n"
   ]
  },
  {
   "cell_type": "code",
   "execution_count": 75,
   "metadata": {},
   "outputs": [
    {
     "data": {
      "text/plain": [
       "<matplotlib.axes._subplots.AxesSubplot at 0x7f8df45a5160>"
      ]
     },
     "execution_count": 75,
     "metadata": {},
     "output_type": "execute_result"
    },
    {
     "data": {
      "image/png": "[encoded data removed]",
      "text/plain": [
       "<Figure size 432x288 with 1 Axes>"
      ]
     },
     "metadata": {},
     "output_type": "display_data"
    }
   ],
   "source": [
    "query = \"select type, date_trunc('day', pickup_datetime) date, count(*) cnt from reinvent19.canonical group by type, date_trunc('day', pickup_datetime)\"\n",
    "typeperday_df = pd.read_sql(query, conn)\n",
    "typeperday_df.plot(x='date', y='cnt')"
   ]
  },
  {
   "cell_type": "markdown",
   "metadata": {},
   "source": [
    "## We see some bad data here...\n",
    "We are expecting only 2018 and 2019 datasets here, but can see there are records far into the future and in the past.  This represents bad data that we want to eliminate before we build our model.\n"
   ]
  },
  {
   "cell_type": "code",
   "execution_count": 76,
   "metadata": {},
   "outputs": [
    {
     "data": {
      "text/html": [
       "<div>\n",
       "<style scoped>\n",
       "    .dataframe tbody tr th:only-of-type {\n",
       "        vertical-align: middle;\n",
       "    }\n",
       "\n",
       "    .dataframe tbody tr th {\n",
       "        vertical-align: top;\n",
       "    }\n",
       "\n",
       "    .dataframe thead th {\n",
       "        text-align: right;\n",
       "    }\n",
       "</style>\n",
       "<table border=\"1\" class=\"dataframe\">\n",
       "  <thead>\n",
       "    <tr style=\"text-align: right;\">\n",
       "      <th></th>\n",
       "      <th>type</th>\n",
       "      <th>cnt</th>\n",
       "    </tr>\n",
       "    <tr>\n",
       "      <th>date</th>\n",
       "      <th></th>\n",
       "      <th></th>\n",
       "    </tr>\n",
       "  </thead>\n",
       "  <tbody>\n",
       "    <tr>\n",
       "      <th>2019-02-03</th>\n",
       "      <td>green</td>\n",
       "      <td>18681</td>\n",
       "    </tr>\n",
       "    <tr>\n",
       "      <th>2019-01-03</th>\n",
       "      <td>green</td>\n",
       "      <td>20571</td>\n",
       "    </tr>\n",
       "    <tr>\n",
       "      <th>2019-01-10</th>\n",
       "      <td>green</td>\n",
       "      <td>23038</td>\n",
       "    </tr>\n",
       "    <tr>\n",
       "      <th>2019-01-28</th>\n",
       "      <td>fhv</td>\n",
       "      <td>665736</td>\n",
       "    </tr>\n",
       "    <tr>\n",
       "      <th>2019-01-21</th>\n",
       "      <td>fhv</td>\n",
       "      <td>749732</td>\n",
       "    </tr>\n",
       "  </tbody>\n",
       "</table>\n",
       "</div>"
      ],
      "text/plain": [
       "             type     cnt\n",
       "date                     \n",
       "2019-02-03  green   18681\n",
       "2019-01-03  green   20571\n",
       "2019-01-10  green   23038\n",
       "2019-01-28    fhv  665736\n",
       "2019-01-21    fhv  749732"
      ]
     },
     "execution_count": 76,
     "metadata": {},
     "output_type": "execute_result"
    }
   ],
   "source": [
    "# Only reason we put this conditional here is so you can execute the cell multiple times\n",
    "# if you don't check, it won't find the 'date' column again and makes interacting w/ the notebook more seemless\n",
    "if type(typeperday_df.index) != pd.core.indexes.datetimes.DatetimeIndex:\n",
    "    typeperday_df = typeperday_df.set_index('date', drop=True)\n",
    "    \n",
    "typeperday_df.head()"
   ]
  },
  {
   "cell_type": "code",
   "execution_count": 77,
   "metadata": {},
   "outputs": [
    {
     "data": {
      "text/plain": [
       "<matplotlib.axes._subplots.AxesSubplot at 0x7f8df4585cf8>"
      ]
     },
     "execution_count": 77,
     "metadata": {},
     "output_type": "execute_result"
    },
    {
     "data": {
      "image/png": "[encoded data removed]",
      "text/plain": [
       "<Figure size 432x288 with 1 Axes>"
      ]
     },
     "metadata": {},
     "output_type": "display_data"
    }
   ],
   "source": [
    "typeperday_df.loc['2019-01-01':'2019-12-31'].plot(y='cnt')"
   ]
  },
  {
   "cell_type": "markdown",
   "metadata": {},
   "source": [
    "Let's look at some of the bad data now:\n"
   ]
  },
  {
   "cell_type": "code",
   "execution_count": 85,
   "metadata": {},
   "outputs": [
    {
     "data": {
      "text/html": [
       "<div>\n",
       "<style scoped>\n",
       "    .dataframe tbody tr th:only-of-type {\n",
       "        vertical-align: middle;\n",
       "    }\n",
       "\n",
       "    .dataframe tbody tr th {\n",
       "        vertical-align: top;\n",
       "    }\n",
       "\n",
       "    .dataframe thead th {\n",
       "        text-align: right;\n",
       "    }\n",
       "</style>\n",
       "<table border=\"1\" class=\"dataframe\">\n",
       "  <thead>\n",
       "    <tr style=\"text-align: right;\">\n",
       "      <th></th>\n",
       "      <th>type</th>\n",
       "      <th>cnt</th>\n",
       "    </tr>\n",
       "    <tr>\n",
       "      <th>date</th>\n",
       "      <th></th>\n",
       "      <th></th>\n",
       "    </tr>\n",
       "  </thead>\n",
       "  <tbody>\n",
       "    <tr>\n",
       "      <th>2041-03-25</th>\n",
       "      <td>yellow</td>\n",
       "      <td>1</td>\n",
       "    </tr>\n",
       "    <tr>\n",
       "      <th>2020-01-03</th>\n",
       "      <td>yellow</td>\n",
       "      <td>1</td>\n",
       "    </tr>\n",
       "    <tr>\n",
       "      <th>2088-01-24</th>\n",
       "      <td>yellow</td>\n",
       "      <td>2</td>\n",
       "    </tr>\n",
       "    <tr>\n",
       "      <th>2033-04-27</th>\n",
       "      <td>yellow</td>\n",
       "      <td>3</td>\n",
       "    </tr>\n",
       "    <tr>\n",
       "      <th>2038-02-17</th>\n",
       "      <td>yellow</td>\n",
       "      <td>4</td>\n",
       "    </tr>\n",
       "  </tbody>\n",
       "</table>\n",
       "</div>"
      ],
      "text/plain": [
       "              type  cnt\n",
       "date                   \n",
       "2041-03-25  yellow    1\n",
       "2020-01-03  yellow    1\n",
       "2088-01-24  yellow    2\n",
       "2033-04-27  yellow    3\n",
       "2038-02-17  yellow    4"
      ]
     },
     "execution_count": 85,
     "metadata": {},
     "output_type": "execute_result"
    }
   ],
   "source": [
    "typeperday_df.loc['2019-12-31':]"
   ]
  },
  {
   "cell_type": "markdown",
   "metadata": {},
   "source": [
    "All the bad data, at least the bad data in the future, is coming from the yellow taxi license type.\n",
    "\n",
    "### Note, we are querying the transformed data.\n",
    "\n",
    "We should check the raw dataset to see if it's also bad or something happened in the ETL process\n",
    "\n",
    "Let's find the 2 2088 records to make sure they are in the source data"
   ]
  },
  {
   "cell_type": "code",
   "execution_count": 88,
   "metadata": {},
   "outputs": [
    {
     "data": {
      "text/html": [
       "<div>\n",
       "<style scoped>\n",
       "    .dataframe tbody tr th:only-of-type {\n",
       "        vertical-align: middle;\n",
       "    }\n",
       "\n",
       "    .dataframe tbody tr th {\n",
       "        vertical-align: top;\n",
       "    }\n",
       "\n",
       "    .dataframe thead th {\n",
       "        text-align: right;\n",
       "    }\n",
       "</style>\n",
       "<table border=\"1\" class=\"dataframe\">\n",
       "  <thead>\n",
       "    <tr style=\"text-align: right;\">\n",
       "      <th></th>\n",
       "      <th>vendorid</th>\n",
       "      <th>tpep_pickup_datetime</th>\n",
       "      <th>tpep_dropoff_datetime</th>\n",
       "      <th>passenger_count</th>\n",
       "      <th>trip_distance</th>\n",
       "      <th>ratecodeid</th>\n",
       "      <th>store_and_fwd_flag</th>\n",
       "      <th>pulocationid</th>\n",
       "      <th>dolocationid</th>\n",
       "      <th>payment_type</th>\n",
       "      <th>fare_amount</th>\n",
       "      <th>extra</th>\n",
       "      <th>mta_tax</th>\n",
       "      <th>tip_amount</th>\n",
       "      <th>tolls_amount</th>\n",
       "      <th>improvement_surcharge</th>\n",
       "      <th>total_amount</th>\n",
       "      <th>congestion_surcharge</th>\n",
       "    </tr>\n",
       "  </thead>\n",
       "  <tbody>\n",
       "    <tr>\n",
       "      <th>0</th>\n",
       "      <td>2</td>\n",
       "      <td>2088-01-24 00:15:42</td>\n",
       "      <td>2088-01-24 00:19:46</td>\n",
       "      <td>1</td>\n",
       "      <td>0.63</td>\n",
       "      <td>1</td>\n",
       "      <td>N</td>\n",
       "      <td>41</td>\n",
       "      <td>166</td>\n",
       "      <td>2</td>\n",
       "      <td>4.5</td>\n",
       "      <td>0.0</td>\n",
       "      <td>0.5</td>\n",
       "      <td>0.0</td>\n",
       "      <td>0.0</td>\n",
       "      <td>0.3</td>\n",
       "      <td>5.3</td>\n",
       "      <td>None</td>\n",
       "    </tr>\n",
       "    <tr>\n",
       "      <th>1</th>\n",
       "      <td>2</td>\n",
       "      <td>2088-01-24 00:25:39</td>\n",
       "      <td>2088-01-24 07:28:25</td>\n",
       "      <td>1</td>\n",
       "      <td>4.05</td>\n",
       "      <td>1</td>\n",
       "      <td>N</td>\n",
       "      <td>24</td>\n",
       "      <td>162</td>\n",
       "      <td>2</td>\n",
       "      <td>14.5</td>\n",
       "      <td>0.0</td>\n",
       "      <td>0.5</td>\n",
       "      <td>0.0</td>\n",
       "      <td>0.0</td>\n",
       "      <td>0.3</td>\n",
       "      <td>15.3</td>\n",
       "      <td>None</td>\n",
       "    </tr>\n",
       "  </tbody>\n",
       "</table>\n",
       "</div>"
      ],
      "text/plain": [
       "   vendorid tpep_pickup_datetime tpep_dropoff_datetime  passenger_count  \\\n",
       "0         2  2088-01-24 00:15:42   2088-01-24 00:19:46                1   \n",
       "1         2  2088-01-24 00:25:39   2088-01-24 07:28:25                1   \n",
       "\n",
       "   trip_distance  ratecodeid store_and_fwd_flag  pulocationid  dolocationid  \\\n",
       "0           0.63           1                  N            41           166   \n",
       "1           4.05           1                  N            24           162   \n",
       "\n",
       "   payment_type  fare_amount  extra  mta_tax  tip_amount  tolls_amount  \\\n",
       "0             2          4.5    0.0      0.5         0.0           0.0   \n",
       "1             2         14.5    0.0      0.5         0.0           0.0   \n",
       "\n",
       "   improvement_surcharge  total_amount congestion_surcharge  \n",
       "0                    0.3           5.3                 None  \n",
       "1                    0.3          15.3                 None  "
      ]
     },
     "execution_count": 88,
     "metadata": {},
     "output_type": "execute_result"
    }
   ],
   "source": [
    "pd.read_sql(\"select * from reinvent19.yellow where tpep_pickup_datetime like '2088%'\", conn)"
   ]
  },
  {
   "cell_type": "code",
   "execution_count": 93,
   "metadata": {},
   "outputs": [
    {
     "data": {
      "text/plain": [
       "<matplotlib.axes._subplots.AxesSubplot at 0x7f8df4350e48>"
      ]
     },
     "execution_count": 93,
     "metadata": {},
     "output_type": "execute_result"
    },
    {
     "data": {
      "image/png": "[encoded data removed]",
      "text/plain": [
       "<Figure size 432x288 with 1 Axes>"
      ]
     },
     "metadata": {},
     "output_type": "display_data"
    }
   ],
   "source": [
    "## Next let's plot this per type:\n",
    "typeperday_df.loc['2019-01-01':'2019-07-30'].pivot_table(index='date', \n",
    "                                                         columns='type', \n",
    "                                                         values='cnt', \n",
    "                                                         aggfunc='sum').plot()"
   ]
  },
  {
   "cell_type": "code",
   "execution_count": null,
   "metadata": {},
   "outputs": [],
   "source": []
  }
 ],
 "metadata": {
  "kernelspec": {
   "display_name": "conda_python3",
   "language": "python",
   "name": "conda_python3"
  },
  "language_info": {
   "codemirror_mode": {
    "name": "ipython",
    "version": 3
   },
   "file_extension": ".py",
   "mimetype": "text/x-python",
   "name": "python",
   "nbconvert_exporter": "python",
   "pygments_lexer": "ipython3",
   "version": "3.6.5"
  }
 },
 "nbformat": 4,
 "nbformat_minor": 2
}

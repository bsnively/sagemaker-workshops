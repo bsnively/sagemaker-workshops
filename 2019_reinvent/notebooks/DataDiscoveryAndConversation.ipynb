{
 "cells": [
  {
   "cell_type": "markdown",
   "metadata": {},
   "source": [
    "# Data Discover and Transformation\n",
    "in this section of the lab, we'll use Glue to discover new transprotation data"
   ]
  },
  {
   "cell_type": "markdown",
   "metadata": {},
   "source": [
    "### ASSUMPTION:\n",
    ".  GlueRole is created in cloudformation\n",
    ".  Notebook role has access to perform glue and athena query functions (in addition to the otherones)\n"
   ]
  },
  {
   "cell_type": "markdown",
   "metadata": {},
   "source": [
    "A table in the AWS Glue Data Catalog is the metadata definition that represents the data in a data store. You create tables when you run a crawler, or you can create a table manually in the AWS Glue console. The Tables list in the AWS Glue console displays values of your table's metadata. You use table definitions to specify sources and targets when you create ETL (extract, transform, and load) jobs. "
   ]
  },
  {
   "cell_type": "code",
   "execution_count": null,
   "metadata": {},
   "outputs": [],
   "source": [
    "import boto3\n",
    "\n",
    "database_name = '2019reinventWorkshop'\n",
    "\n",
    "## lets first create a namespace for the tables:\n",
    "glue_client = boto3.client('glue')\n",
    "create_database_resp = glue_client.create_database(\n",
    "    DatabaseInput={\n",
    "        'Name': database_name,\n",
    "        'Description': 'This database will contain the tables discovered through both crawling and the ETL processes'\n",
    "    }\n",
    ")"
   ]
  },
  {
   "cell_type": "markdown",
   "metadata": {},
   "source": [
    "This will create a new database, or namespace, that can hold the collection of tables\n",
    "<img src=\"images/createdatabaseresponse.png\">"
   ]
  },
  {
   "cell_type": "markdown",
   "metadata": {},
   "source": [
    "You can use a crawler to populate the AWS Glue Data Catalog with tables. This is the primary method used by most AWS Glue users. A crawler can crawl multiple data stores in a single run. Upon completion, the crawler creates or updates one or more tables in your Data Catalog. Extract, transform, and load (ETL) jobs that you define in AWS Glue use these Data Catalog tables as sources and targets. The ETL job reads from and writes to the data stores that are specified in the source and target Data Catalog tables. "
   ]
  },
  {
   "cell_type": "code",
   "execution_count": null,
   "metadata": {},
   "outputs": [],
   "source": [
    "crawler_name = '2019reinventworkshopcrawler'\n",
    "create_crawler_resp = glue_client.create_crawler(\n",
    "    Name=crawler_name,\n",
    "    Role='GlueRole',\n",
    "    DatabaseName=database_name,\n",
    "    Description='Crawler to discover the base tables for the workshop',\n",
    "    Targets={\n",
    "        'S3Targets': [\n",
    "            {\n",
    "                'Path': 's3://serverless-analytics/reinvent-2019/',\n",
    "            },\n",
    "        ]\n",
    "    }\n",
    ")\n",
    "response = glue_client.start_crawler(\n",
    "    Name=crawler_name\n",
    ")"
   ]
  },
  {
   "cell_type": "markdown",
   "metadata": {},
   "source": [
    "After starting the crawler, you can go to the glue console if you'd like to see it running.\n",
    "\n",
    "https://console.aws.amazon.com/glue/home?region=us-east-1#catalog:tab=crawlers\n",
    "<img src='images/startcrawlerui.png'/>\n",
    "\n",
    "After it finishes crawling, you can see the datasets (represeted as \"tables\") it automatically discovered.\n",
    "<img src='images/crawler_discovered.png'/>"
   ]
  },
  {
   "cell_type": "markdown",
   "metadata": {},
   "source": [
    "## Quering the data\n",
    "\n",
    "We'll use Athena to query the data.  Athena allows us to perform SQL queries against datasets on S3, without having to transform them, load them into a traditional sql datastore, and allows rapid ad-hoc investigation.  \n",
    "\n",
    "Later we'll use Spark to do ETL and feature engineering."
   ]
  },
  {
   "cell_type": "code",
   "execution_count": 12,
   "metadata": {},
   "outputs": [
    {
     "name": "stdout",
     "output_type": "stream",
     "text": [
      "installing the PyAthena Drivers to perform SQL queries natively\n",
      "alternatives include using the boto3 libraries or other Athena Data APIs\n",
      "\u001b[33mYou are using pip version 10.0.1, however version 19.2.3 is available.\n",
      "You should consider upgrading via the 'pip install --upgrade pip' command.\u001b[0m\n"
     ]
    }
   ],
   "source": [
    "print('installing the PyAthena Drivers to perform SQL queries natively')\n",
    "print('alternatives include using the boto3 libraries or other Athena Data APIs')\n",
    "!pip install PyAthena > /dev/null"
   ]
  },
  {
   "cell_type": "markdown",
   "metadata": {},
   "source": [
    "Athena uses S3 to store results to allow different types of clients to read it and so you can go back and see the results of previous queries.  We can set that up next:"
   ]
  },
  {
   "cell_type": "code",
   "execution_count": 13,
   "metadata": {},
   "outputs": [
    {
     "name": "stdout",
     "output_type": "stream",
     "text": [
      "using the athena data bucket: sagemaker-us-east-1-783526147575\n",
      "running in region:  us-east-1\n"
     ]
    }
   ],
   "source": [
    "import sagemaker\n",
    "sagemaker_session = sagemaker.Session()\n",
    "athena_data_bucket = sagemaker_session.default_bucket()\n",
    "print('using the athena data bucket:', athena_data_bucket)\n",
    "print('running in region: ', sagemaker_session.boto_region_name)"
   ]
  },
  {
   "cell_type": "markdown",
   "metadata": {},
   "source": [
    "Next we'll create an Athena connection we can use, much like a standard JDBC/ODBC connection"
   ]
  },
  {
   "cell_type": "code",
   "execution_count": 14,
   "metadata": {},
   "outputs": [],
   "source": [
    "from pyathena import connect\n",
    "import pandas as pd\n",
    "\n",
    "sagemaker_session = sagemaker.Session()\n",
    "\n",
    "conn = connect(s3_staging_dir=\"s3://\" + athena_data_bucket,\n",
    "               region_name=sagemaker_session.boto_region_name)"
   ]
  },
  {
   "cell_type": "code",
   "execution_count": 28,
   "metadata": {},
   "outputs": [
    {
     "name": "stdout",
     "output_type": "stream",
     "text": [
      "     type  ride_count\n",
      "0     fhv    31956302\n",
      "1  yellow    44459136\n",
      "2   green     3298036\n"
     ]
    },
    {
     "data": {
      "text/plain": [
       "<matplotlib.axes._subplots.AxesSubplot at 0x7f8df56cd320>"
      ]
     },
     "execution_count": 28,
     "metadata": {},
     "output_type": "execute_result"
    },
    {
     "data": {
      "image/png": "[encoded data removed]",
      "text/plain": [
       "<Figure size 432x288 with 1 Axes>"
      ]
     },
     "metadata": {},
     "output_type": "display_data"
    }
   ],
   "source": [
    "df = pd.read_sql('SELECT \\'yellow\\' type, count(*) ride_count FROM \"' + database_name + '\".\"yellow\" ' + \n",
    "                 'UNION ALL SELECT \\'green\\' type, count(*) ride_count FROM \"' + database_name + '\".\"green\"' +\n",
    "                 'UNION ALL SELECT \\'fhv\\' type, count(*) ride_count FROM \"' + database_name + '\".\"fhv\"', conn)\n",
    "print(df)\n",
    "df.plot.bar(x='type', y='ride_count')"
   ]
  },
  {
   "cell_type": "code",
   "execution_count": null,
   "metadata": {},
   "outputs": [],
   "source": []
  }
 ],
 "metadata": {
  "kernelspec": {
   "display_name": "conda_python3",
   "language": "python",
   "name": "conda_python3"
  },
  "language_info": {
   "codemirror_mode": {
    "name": "ipython",
    "version": 3
   },
   "file_extension": ".py",
   "mimetype": "text/x-python",
   "name": "python",
   "nbconvert_exporter": "python",
   "pygments_lexer": "ipython3",
   "version": "3.6.5"
  }
 },
 "nbformat": 4,
 "nbformat_minor": 2
}
